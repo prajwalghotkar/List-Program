{
 "cells": [
  {
   "cell_type": "code",
   "execution_count": 1,
   "metadata": {},
   "outputs": [
    {
     "name": "stdout",
     "output_type": "stream",
     "text": [
      "['ram', 'shyam', 'sita', 'gita', 12, 12.5]\n"
     ]
    }
   ],
   "source": [
    "a=[\"ram\",\"shyam\",\"sita\",\"gita\",12,12.5]\n",
    "print(a)\n"
   ]
  },
  {
   "cell_type": "code",
   "execution_count": 5,
   "metadata": {},
   "outputs": [
    {
     "name": "stdout",
     "output_type": "stream",
     "text": [
      "['ram', 'shyam', 'sita', 'gita', 12, 12.5]\n",
      "length of the string: 6\n"
     ]
    }
   ],
   "source": [
    "a=[\"ram\",\"shyam\",\"sita\",\"gita\",12,12.5]\n",
    "print(a)\n",
    "print(\"length of the string:\",len(a))\n"
   ]
  },
  {
   "cell_type": "code",
   "execution_count": 11,
   "metadata": {},
   "outputs": [
    {
     "name": "stdout",
     "output_type": "stream",
     "text": [
      "['ram', 'shyam', 'sita', 'gita', 11, 12.5]\n",
      "length of the list is: 6\n",
      "['ram', 'sita', 'shyam', 'gita', 11, 12.5]\n"
     ]
    }
   ],
   "source": [
    "a=[\"ram\",\"shyam\",\"sita\",\"gita\",11,12.5]\n",
    "print(a)\n",
    "print(\"length of the list is:\",len(a))\n",
    "a[1]=\"sita\"\n",
    "a[2]=\"shyam\"\n",
    "print(a)"
   ]
  },
  {
   "cell_type": "code",
   "execution_count": 17,
   "metadata": {},
   "outputs": [
    {
     "name": "stdout",
     "output_type": "stream",
     "text": [
      "sita\n",
      "ram\n",
      "shyam\n",
      "gita\n",
      "12.5\n",
      "shyam\n"
     ]
    }
   ],
   "source": [
    "#list sclicing\n",
    "print(a[1])\n",
    "print(a[0])\n",
    "print(a[2])\n",
    "print(a[3])\n",
    "print(a[-1])\n",
    "print(a[-4])\n"
   ]
  },
  {
   "cell_type": "code",
   "execution_count": 20,
   "metadata": {},
   "outputs": [
    {
     "name": "stdout",
     "output_type": "stream",
     "text": [
      "ajw\n"
     ]
    }
   ],
   "source": [
    "#list clicing\n",
    "a=\"Prajwal\"\n",
    "b=a[2:5]\n",
    "print(b)"
   ]
  },
  {
   "cell_type": "code",
   "execution_count": 29,
   "metadata": {},
   "outputs": [
    {
     "name": "stdout",
     "output_type": "stream",
     "text": [
      "['ram', 'shyam', 'sita', 'gita', 12, 30.6]\n",
      "['ram', 'shyam', 'sita', 'gita']\n",
      "['shyam', 'sita', 'gita', 12, 30.6]\n",
      "['ram', 'shyam', 'sita', 'gita', 12]\n"
     ]
    }
   ],
   "source": [
    "#updation of the list:\n",
    "a=[\"ram\",\"shyam\",\"sita\",\"gita\",12,30.6]\n",
    "b=a[:]\n",
    "c=a[0:4]\n",
    "d=a[1:]\n",
    "e=a[:-1]\n",
    "print(b)\n",
    "print(c)\n",
    "print(d)\n",
    "print(e)\n",
    "\n",
    "\n",
    "\n"
   ]
  },
  {
   "cell_type": "code",
   "execution_count": 30,
   "metadata": {},
   "outputs": [
    {
     "name": "stdout",
     "output_type": "stream",
     "text": [
      "['Ram', 'shyam', 10, 'sita', 12.5]\n",
      "Length of the list: 5\n",
      "ramesh\n"
     ]
    }
   ],
   "source": [
    "#upadation of the list:\n",
    "a=[\"Ram\",\"shyam\",10,\"sita\",12.5]\n",
    "print(a)\n",
    "print(\"Length of the list:\",len(a))\n",
    "a[2]=\"ramesh\"\n",
    "print(a[2])\n"
   ]
  },
  {
   "cell_type": "code",
   "execution_count": 31,
   "metadata": {},
   "outputs": [
    {
     "name": "stdout",
     "output_type": "stream",
     "text": [
      "['Ram', 'shyam', 'ramesh', 'sita', 12.5]\n"
     ]
    }
   ],
   "source": [
    "print(a)"
   ]
  },
  {
   "cell_type": "code",
   "execution_count": 37,
   "metadata": {},
   "outputs": [
    {
     "name": "stdout",
     "output_type": "stream",
     "text": [
      "original list is: ['ram', 'shyam', 'sita', 'gita', 10, 12.6]\n",
      "length of the list is: 6\n",
      "['ram', 'shyam', 'sita', 'gita', 12.6]\n"
     ]
    }
   ],
   "source": [
    "#deleting list in python\n",
    "a=[\"ram\",\"shyam\",\"sita\",\"gita\",10,12.6]\n",
    "print(\"original list is:\",a)\n",
    "print(\"length of the list is:\",len(a))\n",
    "del a[4]\n",
    "print(a)"
   ]
  },
  {
   "cell_type": "code",
   "execution_count": 38,
   "metadata": {},
   "outputs": [
    {
     "name": "stdout",
     "output_type": "stream",
     "text": [
      "['ram', 'shyam', 'sita', 'gita', 10, 12.5]\n",
      "ram\n",
      "shyam\n",
      "sita\n",
      "gita\n",
      "10\n",
      "12.5\n"
     ]
    }
   ],
   "source": [
    "#list travalser in python\n",
    "a=[\"ram\",\"shyam\",\"sita\",\"gita\",10,12.5]\n",
    "print(a)\n",
    "for i in a:\n",
    "    print(i)"
   ]
  },
  {
   "cell_type": "code",
   "execution_count": 39,
   "metadata": {},
   "outputs": [
    {
     "name": "stdout",
     "output_type": "stream",
     "text": [
      "['ram', 'shyam', 'sita', 'gita', 12, 12.5]\n",
      "ram\n",
      "shyam\n",
      "sita\n",
      "gita\n",
      "12\n",
      "12.5\n"
     ]
    }
   ],
   "source": [
    "#Traversing of the list i python\n",
    "a=[\"ram\",\"shyam\",\"sita\",\"gita\",12,12.5]\n",
    "print(a)\n",
    "for i in range(len(a)):\n",
    "    print(a[i])\n"
   ]
  },
  {
   "cell_type": "code",
   "execution_count": 17,
   "metadata": {},
   "outputs": [
    {
     "name": "stdout",
     "output_type": "stream",
     "text": [
      "original list is: ['ram', 'shyam', 'sita', 'gita', 'radha', 'Krishna']\n",
      "lenth of the list:  6\n"
     ]
    }
   ],
   "source": [
    "                         #List function      \n",
    "#len() : this methon is used to find the length of the list\n",
    "a=[\"ram\",\"shyam\",\"sita\",\"gita\",\"radha\",\"Krishna\"]\n",
    "print(\"original list is:\",a)\n",
    "b=len(a)\n",
    "print(\"lenth of the list: \",len(a))\n"
   ]
  },
  {
   "cell_type": "code",
   "execution_count": 18,
   "metadata": {},
   "outputs": [
    {
     "name": "stdout",
     "output_type": "stream",
     "text": [
      "['ram', 'shyam', 'sita', 'gita']\n",
      "4\n"
     ]
    }
   ],
   "source": [
    "#OR\n",
    "a=[\"ram\",\"shyam\",\"sita\",\"gita\"]\n",
    "print(a)\n",
    "print(len(a))\n"
   ]
  },
  {
   "cell_type": "code",
   "execution_count": 19,
   "metadata": {},
   "outputs": [
    {
     "name": "stdout",
     "output_type": "stream",
     "text": [
      "original list is: ['ram', 'shyam', 'sita', 'gita', 'radharani', 'krishna']\n",
      "sita\n"
     ]
    }
   ],
   "source": [
    "#max() and min() functions: this method is used to find min and max values in list\n",
    "\n",
    "a=[\"ram\",\"shyam\",\"sita\",\"gita\",\"radharani\",\"krishna\"]\n",
    "print(\"original list is:\",a)\n",
    "print(max(a))"
   ]
  },
  {
   "cell_type": "code",
   "execution_count": 20,
   "metadata": {},
   "outputs": [
    {
     "name": "stdout",
     "output_type": "stream",
     "text": [
      "[10, 20, 30, 40, 90, 60, 70]\n",
      "max value in the list is: 90\n"
     ]
    }
   ],
   "source": [
    "a=[10,20,30,40,90,60,70]\n",
    "print(a)\n",
    "print(\"max value in the list is:\",max(a))\n"
   ]
  },
  {
   "cell_type": "code",
   "execution_count": 22,
   "metadata": {},
   "outputs": [
    {
     "name": "stdout",
     "output_type": "stream",
     "text": [
      "[10, 20, 30, 40, 90, 60, 70]\n",
      "max value in the given list is: 90\n"
     ]
    }
   ],
   "source": [
    "#OR\n",
    "print(a)\n",
    "b=max(a)\n",
    "print(\"max value in the given list is:\",b)"
   ]
  },
  {
   "cell_type": "code",
   "execution_count": 23,
   "metadata": {},
   "outputs": [
    {
     "name": "stdout",
     "output_type": "stream",
     "text": [
      "origina list is: [30, 40, 50, 20, 90]\n",
      "20\n"
     ]
    }
   ],
   "source": [
    "#min function\n",
    "a=[30,40,50,20,90]\n",
    "print(\"origina list is:\",a)\n",
    "print(min(a))"
   ]
  },
  {
   "cell_type": "code",
   "execution_count": 25,
   "metadata": {},
   "outputs": [
    {
     "name": "stdout",
     "output_type": "stream",
     "text": [
      "[30, 40, 50, 20, 90]\n",
      "minimum list is: 20\n"
     ]
    }
   ],
   "source": [
    "print(a)\n",
    "b=min(a)\n",
    "print(\"minimum value in list is:\",b)"
   ]
  },
  {
   "cell_type": "code",
   "execution_count": null,
   "metadata": {},
   "outputs": [],
   "source": [
    "#CMP(): this method is used to compare two lists\n",
    "#cmp() : syntax : cmp(list1,list2)\n",
    "\n",
    "#return 1 : list1 is greter than list2\n",
    "#return 0 : both the list are equal\n",
    "#return -1 : list2 is greter tha list1"
   ]
  },
  {
   "cell_type": "code",
   "execution_count": 26,
   "metadata": {},
   "outputs": [
    {
     "name": "stdout",
     "output_type": "stream",
     "text": [
      "['ram', 'shyam', 'sita ', 'gita', 'radhakrishna']\n"
     ]
    }
   ],
   "source": [
    "#append(): this method is used to add or append a object at the end of the list\n",
    "a=[\"ram\",\"shyam\",\"sita \",\"gita\"]\n",
    "a.append(\"radhakrishna\")\n",
    "print(a)"
   ]
  },
  {
   "cell_type": "code",
   "execution_count": 34,
   "metadata": {},
   "outputs": [
    {
     "name": "stdout",
     "output_type": "stream",
     "text": [
      "['5', 'radha', 'shyam', 'prajwal', '10', '70', '90', 'radhakrishna', 'ram', 'sita']\n"
     ]
    }
   ],
   "source": [
    "a=[]\n",
    "for i in range(10):\n",
    "    x=input(\"Enter item to add in list:\")\n",
    "    a.append(x)\n",
    "print(a)\n",
    "    "
   ]
  },
  {
   "cell_type": "code",
   "execution_count": 3,
   "metadata": {},
   "outputs": [
    {
     "name": "stdout",
     "output_type": "stream",
     "text": [
      "['ram', 'shyam', 'sita', 'gita', 'ram', 'shyam']\n",
      "2\n",
      "2\n"
     ]
    }
   ],
   "source": [
    "#count()\n",
    "#this is method is use to count the frequency of a object\n",
    "#a\n",
    "# list.count(\"object\")\n",
    "a=[\"ram\",\"shyam\",\"sita\",\"gita\",\"ram\",\"shyam\"]\n",
    "print(a)\n",
    "b=a.count(\"ram\")\n",
    "c=a.count(\"shyam\")\n",
    "print(b)\n",
    "print(c)"
   ]
  },
  {
   "cell_type": "code",
   "execution_count": 4,
   "metadata": {},
   "outputs": [
    {
     "name": "stdout",
     "output_type": "stream",
     "text": [
      "Frequncy is: 1\n"
     ]
    }
   ],
   "source": [
    "a=[]\n",
    "for i in range(10):\n",
    "    x=input(\"Enter the items to add in the list:\")\n",
    "    a.append(x)\n",
    "x=input(\"Enter the value who frequency you want:\")\n",
    "f=a.count(x)\n",
    "print(\"Frequncy is:\",f)\n",
    "    "
   ]
  },
  {
   "cell_type": "code",
   "execution_count": 1,
   "metadata": {},
   "outputs": [
    {
     "name": "stdout",
     "output_type": "stream",
     "text": [
      "index of ram: 0\n"
     ]
    }
   ],
   "source": [
    "#index()\n",
    "#this method is used to find the index of a object/element in given list.\n",
    "a=[\"ram\",\"shyam\",\"sita\",\"ram\",\"gita\"]\n",
    "x=a.index(\"ram\")\n",
    "print(\"index of ram:\",x)"
   ]
  },
  {
   "cell_type": "code",
   "execution_count": 4,
   "metadata": {},
   "outputs": [
    {
     "name": "stdout",
     "output_type": "stream",
     "text": [
      "original lis is:  ['ram', 'sita', 'ram', 'gita', 'radha']\n",
      "0\n"
     ]
    }
   ],
   "source": [
    "a=[]\n",
    "for i in range(5):\n",
    "    x=input(\"Enter the items to add in the list:\")\n",
    "    a.append(x)\n",
    "print(\"original lis is: \",a)\n",
    "I=input(\"Enter the items who index you want:\")\n",
    "i=a.index(I) \n",
    "print(i)   \n",
    "    "
   ]
  },
  {
   "cell_type": "code",
   "execution_count": 5,
   "metadata": {},
   "outputs": [
    {
     "name": "stdout",
     "output_type": "stream",
     "text": [
      "['ram', 'shyam', 'radha', 'gita']\n"
     ]
    }
   ],
   "source": [
    "a=[\"ram\",\"shyam\",\"sita\",\"gita\"]\n",
    "a[2]=\"radha\"\n",
    "print(a)"
   ]
  },
  {
   "cell_type": "code",
   "execution_count": 6,
   "metadata": {},
   "outputs": [
    {
     "name": "stdout",
     "output_type": "stream",
     "text": [
      "['ram', 'prajwal', 'shyam', 'sita', 'gita', 'radha']\n"
     ]
    }
   ],
   "source": [
    "#insert() this method is used to insert object or elemet at perticuler index\n",
    "#syntax: list.insert(index,values/object)\n",
    "a=[\"ram\",\"shyam\",\"sita\",\"gita\",\"radha\"]\n",
    "a.insert(1,\"prajwal\")\n",
    "print(a)"
   ]
  },
  {
   "cell_type": "code",
   "execution_count": 7,
   "metadata": {},
   "outputs": [
    {
     "name": "stdout",
     "output_type": "stream",
     "text": [
      "original list is: ['ram', 'shyam', 'sita', 'gita', 'radha']\n",
      "Insersion list: ['ram', 'shyam', 'sita', 'gita', 'prajwal', 'radha']\n"
     ]
    }
   ],
   "source": [
    "a=[]\n",
    "for i in range(5):\n",
    "    x=input(\"Enter the item to add in the list:\")\n",
    "    a.append(x)\n",
    "print(\"original list is:\",a)\n",
    "index=int(input(\"Enter the index where you want to insert:\"))\n",
    "value=input(\"Enetr the value you ant to insert:\")\n",
    "a.insert(index,value) \n",
    "print(\"Insersion list:\",a)  "
   ]
  },
  {
   "cell_type": "code",
   "execution_count": 1,
   "metadata": {},
   "outputs": [
    {
     "name": "stdout",
     "output_type": "stream",
     "text": [
      "['ram', 'shyam', 'radha', 'sita', 'shyam', 10]\n"
     ]
    }
   ],
   "source": [
    "#remove \n",
    "a=[\"ram\",\"shyam\",10,\"radha\",\"sita\",\"shyam\",10]\n",
    "a.remove(10)\n",
    "print(a)\n"
   ]
  },
  {
   "cell_type": "code",
   "execution_count": 3,
   "metadata": {},
   "outputs": [
    {
     "name": "stdout",
     "output_type": "stream",
     "text": [
      "Original list is: ['ram', 'shyam', 'sita', 'gita', 'radha']\n",
      "['ram', 'shyam', 'sita', 'radha']\n"
     ]
    }
   ],
   "source": [
    "a=[]\n",
    "for i in range(5):\n",
    "    x=input(\"Enter the items to add in list:\")\n",
    "    a.append(x)\n",
    "print(\"Original list is:\",a) \n",
    "value=input(\"Enter the value you want ot remove:\")\n",
    "a.remove(value)\n",
    "print(a)   "
   ]
  },
  {
   "cell_type": "code",
   "execution_count": 4,
   "metadata": {},
   "outputs": [
    {
     "name": "stdout",
     "output_type": "stream",
     "text": [
      "[90, 80, 70, 60, 50, 40, 30, 20, 10]\n"
     ]
    }
   ],
   "source": [
    "#reverse\n",
    "a=[10,20,30,40,50,60,70,80,90]\n",
    "a.reverse()\n",
    "print(a)"
   ]
  },
  {
   "cell_type": "code",
   "execution_count": 7,
   "metadata": {},
   "outputs": [
    {
     "name": "stdout",
     "output_type": "stream",
     "text": [
      "Original list is: [10, 20, 30, 40, 50]\n",
      "reverse list is: [50, 40, 30, 20, 10]\n"
     ]
    }
   ],
   "source": [
    "a=[]\n",
    "for i in range(5):\n",
    "    x=int(input(\"Enter the input to put in to the list:\"))\n",
    "    a.append(x)\n",
    "print(\"Original list is:\",a) \n",
    "a.reverse()\n",
    "print(\"reverse list is:\",a) \n",
    "  "
   ]
  },
  {
   "cell_type": "code",
   "execution_count": 8,
   "metadata": {},
   "outputs": [
    {
     "name": "stdout",
     "output_type": "stream",
     "text": [
      "[20, 40, 50, 60, 70, 90]\n"
     ]
    }
   ],
   "source": [
    "#sort\n",
    "a=[20,40,50,90,70,60]\n",
    "a.sort()\n",
    "print(a)"
   ]
  },
  {
   "cell_type": "code",
   "execution_count": 9,
   "metadata": {},
   "outputs": [
    {
     "name": "stdout",
     "output_type": "stream",
     "text": [
      "[10, 20, 30, 40, 50]\n"
     ]
    }
   ],
   "source": [
    "#pop \n",
    "a=[10,20,30,40,50,60]\n",
    "a.pop()\n",
    "print(a)"
   ]
  },
  {
   "cell_type": "code",
   "execution_count": 10,
   "metadata": {},
   "outputs": [
    {
     "name": "stdout",
     "output_type": "stream",
     "text": [
      "[10, 20, 30, 40]\n"
     ]
    }
   ],
   "source": [
    "a.pop()\n",
    "print(a)"
   ]
  },
  {
   "cell_type": "code",
   "execution_count": 12,
   "metadata": {},
   "outputs": [
    {
     "name": "stdout",
     "output_type": "stream",
     "text": [
      "[10, 20, 30]\n"
     ]
    }
   ],
   "source": [
    "a.pop()\n",
    "print(a)"
   ]
  },
  {
   "cell_type": "code",
   "execution_count": 13,
   "metadata": {},
   "outputs": [
    {
     "name": "stdout",
     "output_type": "stream",
     "text": [
      "[10, 20, 30, 10]\n",
      "[20, 30, 10]\n"
     ]
    }
   ],
   "source": [
    "a=[10,20,30,10]\n",
    "print(a)\n",
    "del a[0]\n",
    "print(a)"
   ]
  },
  {
   "cell_type": "code",
   "execution_count": 17,
   "metadata": {},
   "outputs": [
    {
     "name": "stdout",
     "output_type": "stream",
     "text": [
      "[10, 20, 30, 10]\n",
      "[20, 30, 10]\n"
     ]
    }
   ],
   "source": [
    "a=[10,20,30,10]\n",
    "print(a)\n",
    "a.remove(10)\n",
    "print(a)"
   ]
  },
  {
   "cell_type": "code",
   "execution_count": 7,
   "metadata": {},
   "outputs": [
    {
     "name": "stdout",
     "output_type": "stream",
     "text": [
      "[10, 54.85, 'sunday', 10, 20, True, [50, 51, 52], (70, 71, 72)]\n"
     ]
    }
   ],
   "source": [
    "l1=[10,54.85,'sunday',10,20,True,[50,51,52],(70,71,72)]\n",
    "print(l1)"
   ]
  },
  {
   "cell_type": "code",
   "execution_count": 2,
   "metadata": {},
   "outputs": [
    {
     "name": "stdout",
     "output_type": "stream",
     "text": [
      "<class 'list'>\n"
     ]
    }
   ],
   "source": [
    "print(type(l1))"
   ]
  },
  {
   "cell_type": "code",
   "execution_count": 6,
   "metadata": {},
   "outputs": [
    {
     "data": {
      "text/plain": [
       "[[50, 51, 52], (70, 71, 72)]"
      ]
     },
     "execution_count": 6,
     "metadata": {},
     "output_type": "execute_result"
    }
   ],
   "source": [
    "l1[6:8]\n"
   ]
  },
  {
   "cell_type": "code",
   "execution_count": 15,
   "metadata": {},
   "outputs": [
    {
     "data": {
      "text/plain": [
       "51"
      ]
     },
     "execution_count": 15,
     "metadata": {},
     "output_type": "execute_result"
    }
   ],
   "source": [
    "l1[6][1]"
   ]
  },
  {
   "cell_type": "code",
   "execution_count": 13,
   "metadata": {},
   "outputs": [
    {
     "data": {
      "text/plain": [
       "50"
      ]
     },
     "execution_count": 13,
     "metadata": {},
     "output_type": "execute_result"
    }
   ],
   "source": [
    "l1[6][0]"
   ]
  },
  {
   "cell_type": "code",
   "execution_count": 16,
   "metadata": {},
   "outputs": [
    {
     "data": {
      "text/plain": [
       "52"
      ]
     },
     "execution_count": 16,
     "metadata": {},
     "output_type": "execute_result"
    }
   ],
   "source": [
    "l1[6][2]"
   ]
  },
  {
   "cell_type": "code",
   "execution_count": 19,
   "metadata": {},
   "outputs": [
    {
     "name": "stdout",
     "output_type": "stream",
     "text": [
      "length of the list is: 8\n"
     ]
    }
   ],
   "source": [
    "print(\"length of the list is:\",len(l1))"
   ]
  },
  {
   "cell_type": "code",
   "execution_count": 25,
   "metadata": {},
   "outputs": [
    {
     "name": "stdout",
     "output_type": "stream",
     "text": [
      "[10, 20, 30, 40, 50, 60, 70]\n",
      "[30, 40, 50, 60, 70]\n",
      "[10, 20, 30, 40, 50, 60]\n"
     ]
    }
   ],
   "source": [
    "list1=[10,20,30,40,50,60,70]\n",
    "print(list1)\n",
    "x=list1[2:]\n",
    "print(x)\n",
    "y=list1[:6]\n",
    "print(y)"
   ]
  },
  {
   "cell_type": "code",
   "execution_count": 28,
   "metadata": {},
   "outputs": [
    {
     "name": "stdout",
     "output_type": "stream",
     "text": [
      "original list is: [10, 20, 30, 40, 50, 60, 70]\n",
      "70\n",
      "60\n"
     ]
    }
   ],
   "source": [
    "list1=[10,20,30,40,50,60,70]\n",
    "print(\"original list is:\",list1)\n",
    "x=list1[-1]\n",
    "print(x)\n",
    "y=list1[-2]\n",
    "print(y)"
   ]
  },
  {
   "cell_type": "code",
   "execution_count": 31,
   "metadata": {},
   "outputs": [
    {
     "name": "stdout",
     "output_type": "stream",
     "text": [
      "length of original list: 7\n"
     ]
    },
    {
     "data": {
      "text/plain": [
       "[40, 50, 60]"
      ]
     },
     "execution_count": 31,
     "metadata": {},
     "output_type": "execute_result"
    }
   ],
   "source": [
    "list1=[10,20,30,40,50,60,70]\n",
    "x=len(list1)\n",
    "print(\"length of original list:\",x)\n",
    "list1[-4:-1]"
   ]
  },
  {
   "cell_type": "code",
   "execution_count": 34,
   "metadata": {},
   "outputs": [
    {
     "data": {
      "text/plain": [
       "[40, 50, 60, 70]"
      ]
     },
     "execution_count": 34,
     "metadata": {},
     "output_type": "execute_result"
    }
   ],
   "source": [
    "list1[-4:]"
   ]
  },
  {
   "cell_type": "code",
   "execution_count": 35,
   "metadata": {},
   "outputs": [
    {
     "name": "stdout",
     "output_type": "stream",
     "text": [
      "[10, 20, 30, 40, 50, 60]\n"
     ]
    }
   ],
   "source": [
    "l1=[10,20,30,40,50,60]\n",
    "print(l1)"
   ]
  },
  {
   "cell_type": "code",
   "execution_count": 36,
   "metadata": {},
   "outputs": [
    {
     "name": "stdout",
     "output_type": "stream",
     "text": [
      "[70, 80, 90, 80]\n"
     ]
    }
   ],
   "source": [
    "l2=[70,80,90,80]\n",
    "print(l2)"
   ]
  },
  {
   "cell_type": "code",
   "execution_count": 37,
   "metadata": {},
   "outputs": [
    {
     "name": "stdout",
     "output_type": "stream",
     "text": [
      "[10, 20, 30, 40, 50, 60, 70, 80, 90, 80]\n"
     ]
    }
   ],
   "source": [
    "l3=l1+l2\n",
    "print(l3)"
   ]
  },
  {
   "cell_type": "code",
   "execution_count": 40,
   "metadata": {},
   "outputs": [
    {
     "name": "stdout",
     "output_type": "stream",
     "text": [
      "[10, 20, 30, 40, 50, 60, 70, 80, 90, 80, 100, 101, 102, 103, 104, 105]\n"
     ]
    }
   ],
   "source": [
    "print(l1+l2+[100,101,102,103,104,105])"
   ]
  },
  {
   "cell_type": "code",
   "execution_count": 44,
   "metadata": {},
   "outputs": [
    {
     "name": "stdout",
     "output_type": "stream",
     "text": [
      "['prajwal', 'lily', 'radha', 'krishana']\n"
     ]
    },
    {
     "data": {
      "text/plain": [
       "['prajwal',\n",
       " 'lily',\n",
       " 'radha',\n",
       " 'krishana',\n",
       " 'prajwal',\n",
       " 'lily',\n",
       " 'radha',\n",
       " 'krishana',\n",
       " 'prajwal',\n",
       " 'lily',\n",
       " 'radha',\n",
       " 'krishana']"
      ]
     },
     "execution_count": 44,
     "metadata": {},
     "output_type": "execute_result"
    }
   ],
   "source": [
    "list1=[\"prajwal\",\"lily\",\"radha\",\"krishana\"]\n",
    "print(list1)\n",
    "list1*3\n"
   ]
  },
  {
   "cell_type": "code",
   "execution_count": 45,
   "metadata": {},
   "outputs": [
    {
     "name": "stdout",
     "output_type": "stream",
     "text": [
      "[70, 80, 90, 80, 70, 80, 90, 80, 70, 80, 90, 80]\n"
     ]
    }
   ],
   "source": [
    "l2=[70,80,90,80]\n",
    "print(l2*3)"
   ]
  },
  {
   "cell_type": "code",
   "execution_count": 46,
   "metadata": {},
   "outputs": [
    {
     "name": "stdout",
     "output_type": "stream",
     "text": [
      "True\n"
     ]
    }
   ],
   "source": [
    "l1=[10,20,30,40]\n",
    "print(10 in l1)"
   ]
  },
  {
   "cell_type": "code",
   "execution_count": 47,
   "metadata": {},
   "outputs": [
    {
     "name": "stdout",
     "output_type": "stream",
     "text": [
      "[10, 20, 30, 40, 50]\n"
     ]
    }
   ],
   "source": [
    "l1=[10,20,30,40,50]\n",
    "print(l1)"
   ]
  },
  {
   "cell_type": "code",
   "execution_count": 61,
   "metadata": {},
   "outputs": [
    {
     "name": "stdout",
     "output_type": "stream",
     "text": [
      "[10, 20, 30, 40]\n",
      "[40]\n"
     ]
    }
   ],
   "source": [
    "#del()\n",
    "l1=[10,20,30,40]\n",
    "print(l1)\n",
    "del l1[0:3]\n",
    "print(l1)"
   ]
  },
  {
   "cell_type": "code",
   "execution_count": 64,
   "metadata": {},
   "outputs": [
    {
     "name": "stdout",
     "output_type": "stream",
     "text": [
      "[]\n"
     ]
    }
   ],
   "source": [
    "l1=[10,20,30,40]\n",
    "l1.clear()\n",
    "print(l1)"
   ]
  },
  {
   "cell_type": "code",
   "execution_count": 66,
   "metadata": {},
   "outputs": [
    {
     "name": "stdout",
     "output_type": "stream",
     "text": [
      "[10, 30, 40, 50]\n"
     ]
    }
   ],
   "source": [
    "l1=[10,20,30,40,50]\n",
    "l1.remove(20)\n",
    "print(l1)\n"
   ]
  },
  {
   "cell_type": "code",
   "execution_count": 73,
   "metadata": {},
   "outputs": [
    {
     "name": "stdout",
     "output_type": "stream",
     "text": [
      "20\n"
     ]
    }
   ],
   "source": [
    "l1=[10,20,30,40,50]\n",
    "l2=l1.pop(1)\n",
    "print(l2)"
   ]
  },
  {
   "cell_type": "code",
   "execution_count": 3,
   "metadata": {},
   "outputs": [
    {
     "name": "stdout",
     "output_type": "stream",
     "text": [
      "[1, 2, 3, 4, 5, 6]\n",
      "[1, 2, 3, 5, 6]\n"
     ]
    }
   ],
   "source": [
    "l1=[1,2,3,4,5,6]\n",
    "print(l1)\n",
    "del l1[3]\n",
    "print(l1)"
   ]
  },
  {
   "cell_type": "code",
   "execution_count": 5,
   "metadata": {},
   "outputs": [
    {
     "name": "stdout",
     "output_type": "stream",
     "text": [
      "['prajwal', 'lilly', 'jully', 'ram', 'shyam', 'sita']\n",
      "[]\n"
     ]
    }
   ],
   "source": [
    "l1=[\"prajwal\",\"lilly\",\"jully\",\"ram\",\"shyam\",\"sita\"]\n",
    "print(l1)\n",
    "del l1[:]\n",
    "print(l1)"
   ]
  },
  {
   "cell_type": "code",
   "execution_count": 8,
   "metadata": {},
   "outputs": [
    {
     "name": "stdout",
     "output_type": "stream",
     "text": [
      "['prajwal', 'lilly', 'jully', 'ram', 'shyam', 'sita']\n",
      "['prajwal', 'jully', 'ram', 'shyam', 'sita']\n"
     ]
    }
   ],
   "source": [
    "l1=[\"prajwal\",\"lilly\",\"jully\",\"ram\",\"shyam\",\"sita\"]\n",
    "print(l1)\n",
    "l1.pop(1)\n",
    "print(l1)"
   ]
  },
  {
   "cell_type": "code",
   "execution_count": 12,
   "metadata": {},
   "outputs": [
    {
     "name": "stdout",
     "output_type": "stream",
     "text": [
      "original list is: ['prajwal', 'lilly', 'jully', 'ram', 'shyam', 'sita', 'gita']\n",
      "['prajwal', 'lilly', 'jully', 'ram', 'shyam', 'sita']\n"
     ]
    }
   ],
   "source": [
    "l1=[\"prajwal\",\"lilly\",\"jully\",\"ram\",\"shyam\",\"sita\",\"gita\"]\n",
    "print(\"original list is:\",l1)\n",
    "l1.remove(\"gita\")\n",
    "print(l1)"
   ]
  },
  {
   "cell_type": "code",
   "execution_count": 14,
   "metadata": {},
   "outputs": [
    {
     "name": "stdout",
     "output_type": "stream",
     "text": [
      "['prajwal', 'shyam', 'lilly', 'jully', 'lilly', 'jully', 'prajwal', 'shyam']\n",
      "['jully', 'shyam', 'lilly', 'prajwal']\n"
     ]
    }
   ],
   "source": [
    "l1=[\"prajwal\",\"shyam\",\"lilly\",\"jully\",\"lilly\",\"jully\",\"prajwal\",\"shyam\"]\n",
    "print(l1)\n",
    "l1=list(set(l1))\n",
    "print(l1)"
   ]
  },
  {
   "cell_type": "code",
   "execution_count": 18,
   "metadata": {},
   "outputs": [
    {
     "name": "stdout",
     "output_type": "stream",
     "text": [
      "[10, 20, 30, 40]\n",
      "[10, 20, 30, 40, 50]\n"
     ]
    }
   ],
   "source": [
    "l1=[10,20,30,40]\n",
    "print(l1)\n",
    "l1.append(50)\n",
    "print(l1)"
   ]
  },
  {
   "cell_type": "code",
   "execution_count": 20,
   "metadata": {},
   "outputs": [
    {
     "name": "stdout",
     "output_type": "stream",
     "text": [
      "[10, 20, 30, 40, 50, 60]\n",
      "[10, 20, 30, 40, 50, 60, [70, 80, 90]]\n"
     ]
    }
   ],
   "source": [
    "#list in list\n",
    "l1=[10,20,30,40,50,60]\n",
    "print(l1)\n",
    "l1.append([70,80,90])\n",
    "print(l1)\n"
   ]
  },
  {
   "cell_type": "code",
   "execution_count": 27,
   "metadata": {},
   "outputs": [
    {
     "name": "stdout",
     "output_type": "stream",
     "text": [
      "Original list : [10, 20, 30, 40]\n",
      "Extended list is:[10, 20, 30, 40, 50, 60, 70, 80, 90]\n"
     ]
    }
   ],
   "source": [
    "#extend\n",
    "l1=[10,20,30,40]\n",
    "print(\"Original list :\",l1)\n",
    "print(\"Extended list is:\",end=\"\")\n",
    "l1.extend([50,60,70,80,90])\n",
    "print(l1)\n"
   ]
  },
  {
   "cell_type": "code",
   "execution_count": 29,
   "metadata": {},
   "outputs": [
    {
     "name": "stdout",
     "output_type": "stream",
     "text": [
      "[10, 20, 30, 40, 50, 90]\n",
      "10\n",
      "20\n",
      "30\n",
      "40\n",
      "50\n",
      "90\n"
     ]
    }
   ],
   "source": [
    "a=[10,20,30,40,50,90]\n",
    "print(a)\n",
    "for i in a:\n",
    "    print(i)"
   ]
  },
  {
   "cell_type": "code",
   "execution_count": 33,
   "metadata": {},
   "outputs": [
    {
     "name": "stdout",
     "output_type": "stream",
     "text": [
      "original list is: [10, 20, 30, 40, 50, 70]\n",
      "10\n",
      "20\n",
      "30\n",
      "40\n",
      "50\n",
      "90\n"
     ]
    }
   ],
   "source": [
    "l1=[10,20,30,40,50,70]\n",
    "print(\"original list is:\",l1)\n",
    "for i in range(len(l1)):\n",
    "    print(a[i])"
   ]
  },
  {
   "cell_type": "code",
   "execution_count": 34,
   "metadata": {},
   "outputs": [
    {
     "name": "stdout",
     "output_type": "stream",
     "text": [
      "[20, 40, 60, 80]\n"
     ]
    }
   ],
   "source": [
    "list=[]\n",
    "for x in [10,20,30,40]:\n",
    "    list.append(x*2)\n",
    "print(list)    "
   ]
  },
  {
   "cell_type": "code",
   "execution_count": 35,
   "metadata": {},
   "outputs": [
    {
     "data": {
      "text/plain": [
       "[2, 4, 6, 8, 10, 12]"
      ]
     },
     "execution_count": 35,
     "metadata": {},
     "output_type": "execute_result"
    }
   ],
   "source": [
    "[x*2 for x in [1,2,3,4,5,6]]"
   ]
  },
  {
   "cell_type": "code",
   "execution_count": 36,
   "metadata": {},
   "outputs": [
    {
     "data": {
      "text/plain": [
       "[30, 60, 90, 120, 150, 180]"
      ]
     },
     "execution_count": 36,
     "metadata": {},
     "output_type": "execute_result"
    }
   ],
   "source": [
    "[x*3 for x in [10,20,30,40,50,60]]"
   ]
  },
  {
   "cell_type": "code",
   "execution_count": 40,
   "metadata": {},
   "outputs": [
    {
     "name": "stdout",
     "output_type": "stream",
     "text": [
      "['Rick', 'Jim', 'Mark', '29', '28', '27']\n",
      "['27', '28', '29', 'Jim', 'Mark', 'Rick']\n"
     ]
    }
   ],
   "source": [
    "list1=[\"Rick\",\"Jim\",\"Mark\",\"29\",\"28\",\"27\"]\n",
    "print(list1)\n",
    "list1.sort()\n",
    "print(list1)\n",
    "\n"
   ]
  },
  {
   "cell_type": "code",
   "execution_count": 41,
   "metadata": {},
   "outputs": [
    {
     "name": "stdout",
     "output_type": "stream",
     "text": [
      "original list is: ['Rick', 'Jim', 'Mark', '29', '28', '27']\n",
      "['27', '28', '29', 'Jim', 'Mark', 'Rick']\n"
     ]
    }
   ],
   "source": [
    "list1=[\"Rick\",\"Jim\",\"Mark\",\"29\",\"28\",\"27\"]\n",
    "print(\"original list is:\",list1)\n",
    "list2=sorted(list1)\n",
    "print(list2)"
   ]
  },
  {
   "cell_type": "code",
   "execution_count": 7,
   "metadata": {},
   "outputs": [
    {
     "name": "stdout",
     "output_type": "stream",
     "text": [
      "20\n",
      "[10, 20, 30]\n",
      "50\n",
      "[20, 30]\n",
      "[10, 20]\n",
      "[20, 30, 40, 50]\n"
     ]
    }
   ],
   "source": [
    "#sclicing of the list\n",
    "list1=[10,20,30,40,50]\n",
    "print(list1[1])\n",
    "print(list1[0:3])\n",
    "print(list1[-1])\n",
    "print(list1[-4:-2])\n",
    "print(list1[-5:-3])\n",
    "print(list1[-4:])"
   ]
  },
  {
   "cell_type": "code",
   "execution_count": 10,
   "metadata": {},
   "outputs": [
    {
     "name": "stdout",
     "output_type": "stream",
     "text": [
      "[10, 20, 30, 40, 50, 100, 200, 300, 1, 2, 3]\n"
     ]
    }
   ],
   "source": [
    "#concatenation of the list:\n",
    "list2=[100,200,300]\n",
    "print(list1+list2+[1,2,3])"
   ]
  },
  {
   "cell_type": "code",
   "execution_count": 11,
   "metadata": {},
   "outputs": [
    {
     "name": "stdout",
     "output_type": "stream",
     "text": [
      "[100, 200, 300, 100, 200, 300, 100, 200, 300]\n"
     ]
    }
   ],
   "source": [
    "print(list2*3)"
   ]
  },
  {
   "cell_type": "code",
   "execution_count": 13,
   "metadata": {},
   "outputs": [
    {
     "name": "stdout",
     "output_type": "stream",
     "text": [
      "True\n"
     ]
    }
   ],
   "source": [
    "print(100 in list2)"
   ]
  },
  {
   "cell_type": "code",
   "execution_count": 16,
   "metadata": {},
   "outputs": [
    {
     "name": "stdout",
     "output_type": "stream",
     "text": [
      "original list is: ['jone', 'sam', 'Rick', 'jim']\n",
      "True\n"
     ]
    }
   ],
   "source": [
    "list1=['jone','sam','Rick','jim']\n",
    "print(\"original list is:\",list1)\n",
    "print('jone' in list1)\n"
   ]
  },
  {
   "cell_type": "code",
   "execution_count": 17,
   "metadata": {},
   "outputs": [
    {
     "name": "stdout",
     "output_type": "stream",
     "text": [
      "['jone', 'sam', 'rick', 'jim']\n",
      "['sam', 'rick', 'jim']\n"
     ]
    }
   ],
   "source": [
    "#delete from the list(Del,Remove,pop)\n",
    "list1=[\"jone\",\"sam\",\"rick\",\"jim\"]\n",
    "print(list1)\n",
    "del list1[0]\n",
    "print(list1)"
   ]
  },
  {
   "cell_type": "code",
   "execution_count": 18,
   "metadata": {},
   "outputs": [
    {
     "name": "stdout",
     "output_type": "stream",
     "text": [
      "original list is: ['jon', 'prajwal', 'pajjuhack', 'jully', 'jim']\n",
      "['jon', 'prajwal', 'pajjuhack', 'jim']\n"
     ]
    }
   ],
   "source": [
    "list1=['jon','prajwal','pajjuhack','jully','jim']\n",
    "print(\"original list is:\",list1)\n",
    "del list1[3]\n",
    "print(list1)"
   ]
  },
  {
   "cell_type": "code",
   "execution_count": 19,
   "metadata": {},
   "outputs": [
    {
     "name": "stdout",
     "output_type": "stream",
     "text": [
      "origuinal list is: ['pajjubhai', 'hacker', 'prajwal', 'kanchan']\n",
      "[]\n"
     ]
    }
   ],
   "source": [
    "list1=[\"pajjubhai\",\"hacker\",\"prajwal\",\"kanchan\"]\n",
    "print(\"origuinal list is:\",list1)\n",
    "del list1[0:]\n",
    "print(list1)"
   ]
  },
  {
   "cell_type": "code",
   "execution_count": 22,
   "metadata": {},
   "outputs": [
    {
     "name": "stdout",
     "output_type": "stream",
     "text": [
      "original list is: ['prajwal', 'kanchan', 'mannu', 'krishna', 'radha']\n",
      "['prajwal', 'kanchan', 'mannu']\n"
     ]
    }
   ],
   "source": [
    "list=[\"prajwal\",\"kanchan\",\"mannu\",\"krishna\",\"radha\"]\n",
    "print(\"original list is:\",list)\n",
    "list.pop()\n",
    "list.pop()\n",
    "print(list)\n"
   ]
  },
  {
   "cell_type": "code",
   "execution_count": 25,
   "metadata": {},
   "outputs": [
    {
     "name": "stdout",
     "output_type": "stream",
     "text": [
      "['prajwal', 'kanchan', 'mannu', 'krishna', 'radha']\n",
      "['kanchan', 'mannu', 'krishna', 'radha']\n"
     ]
    }
   ],
   "source": [
    "list=[\"prajwal\",\"kanchan\",\"mannu\",\"krishna\",\"radha\"]\n",
    "print(list)\n",
    "list.pop(0)\n",
    "print(list)"
   ]
  },
  {
   "cell_type": "code",
   "execution_count": 26,
   "metadata": {},
   "outputs": [
    {
     "name": "stdout",
     "output_type": "stream",
     "text": [
      "original list is: ['jone', 'sam', 'Rick', 'jim']\n",
      "jim\n"
     ]
    }
   ],
   "source": [
    "list1=['jone','sam','Rick','jim']\n",
    "print(\"original list is:\",list1)\n",
    "a=list1.pop()\n",
    "print(a)"
   ]
  },
  {
   "cell_type": "code",
   "execution_count": 3,
   "metadata": {},
   "outputs": [
    {
     "name": "stdout",
     "output_type": "stream",
     "text": [
      "original list is: [1, 2, 3, 3]\n",
      "[1, 2, 3, 3, 'prajwal']\n"
     ]
    }
   ],
   "source": [
    "#append() function\n",
    "list=[1,2,3,3]\n",
    "print(\"original list is:\",list)\n",
    "list.append(\"prajwal\")\n",
    "print(list)"
   ]
  },
  {
   "cell_type": "code",
   "execution_count": 9,
   "metadata": {},
   "outputs": [
    {
     "name": "stdout",
     "output_type": "stream",
     "text": [
      "[2, 4, 6, 8, 10]\n"
     ]
    }
   ],
   "source": [
    "list1=[]\n",
    "for i in [1,2,3,4,5]:\n",
    "    list1.append(i*2)\n",
    "print(list1)    \n",
    "    "
   ]
  },
  {
   "cell_type": "code",
   "execution_count": 10,
   "metadata": {},
   "outputs": [
    {
     "name": "stdout",
     "output_type": "stream",
     "text": [
      "['prajwal', 'kanchan', 'krishna', 'radha', 'pajju']\n"
     ]
    }
   ],
   "source": [
    "a=[]\n",
    "for i in range(5):\n",
    "    x=input(\"Enter the list elements:\")\n",
    "    a.append(x)\n",
    "print(a)    "
   ]
  },
  {
   "cell_type": "code",
   "execution_count": 11,
   "metadata": {},
   "outputs": [
    {
     "name": "stdout",
     "output_type": "stream",
     "text": [
      "given list is: [1, 2, 3, 4, 'ram', 'shyam', 'sita', 'radha', 'krishna']\n",
      "[1, 2, 3, 4, 'ram', 'shyam', 'sita', 'radha', 'krishna', 'prajwal']\n"
     ]
    }
   ],
   "source": [
    "#Append,Insert,Extend\n",
    "list1=[1,2,3,4,\"ram\",\"shyam\",\"sita\",\"radha\",\"krishna\"]\n",
    "print(\"given list is:\",list1)\n",
    "list1.append(\"prajwal\")\n",
    "print(list1)"
   ]
  },
  {
   "cell_type": "code",
   "execution_count": null,
   "metadata": {},
   "outputs": [],
   "source": []
  },
  {
   "cell_type": "code",
   "execution_count": null,
   "metadata": {},
   "outputs": [],
   "source": []
  },
  {
   "cell_type": "code",
   "execution_count": 1,
   "metadata": {},
   "outputs": [
    {
     "name": "stdout",
     "output_type": "stream",
     "text": [
      "given list is: [1, 2, 3, 4, 'ram', 'shyam', 'sita', 'radha', 'krishna', (10, 23, 30, 90)]\n",
      "[1, 2, 3, 4, 'pajju', 'ram', 'shyam', 'sita', 'radha', 'krishna', (10, 23, 30, 90)]\n"
     ]
    }
   ],
   "source": [
    "list1=[1,2,3,4,\"ram\",\"shyam\",\"sita\",\"radha\",\"krishna\",(10,23,30,90)]\n",
    "print(\"given list is:\",list1)\n",
    "list1.insert(4,\"pajju\")\n",
    "print(list1)"
   ]
  },
  {
   "cell_type": "code",
   "execution_count": 2,
   "metadata": {},
   "outputs": [
    {
     "name": "stdout",
     "output_type": "stream",
     "text": [
      "given list is: ['prajwal', 'kanchan', 'vivek', 'krishna', 'radha']\n",
      "['prajwal', 'kanchan', 'vivek', 'krishna', 'radha', 1, 2, 3, 4, 5]\n"
     ]
    }
   ],
   "source": [
    "#extend the list\n",
    "list1=[\"prajwal\",\"kanchan\",\"vivek\",\"krishna\",\"radha\"]\n",
    "print(\"given list is:\",list1)\n",
    "list1.extend([1,2,3,4,5])\n",
    "print(list1)"
   ]
  },
  {
   "cell_type": "code",
   "execution_count": 5,
   "metadata": {},
   "outputs": [
    {
     "name": "stdout",
     "output_type": "stream",
     "text": [
      "given list is: [1, 2, 3, 4, 5, 'prajwal', 'radha', 'krishana', 'ram', 'sita']\n",
      "ew list is: [1, 2, 3, 4, 5, 'prajwal', ['kanchan', 'pajju hack', 'tim cook'], 'radha', 'krishana', 'ram', 'sita']\n",
      "3\n"
     ]
    }
   ],
   "source": [
    "a=[1,2,3,4,5,'prajwal','radha','krishana','ram','sita']\n",
    "print('given list is:',a)\n",
    "a.insert(6,['kanchan','pajju hack','tim cook'])\n",
    "print(\"ew list is:\",a)\n",
    "print(len(a[6]))\n",
    "\n"
   ]
  },
  {
   "cell_type": "code",
   "execution_count": 6,
   "metadata": {},
   "outputs": [
    {
     "name": "stdout",
     "output_type": "stream",
     "text": [
      "given list is: [8, 6, 2, 4, 6]\n",
      "sorted list is: [2, 4, 6, 6, 8]\n"
     ]
    }
   ],
   "source": [
    "#sorted list\n",
    "a=[8,6,2,4,6]\n",
    "print('given list is:',a)\n",
    "a.sort()\n",
    "print(\"sorted list is:\",a)\n"
   ]
  },
  {
   "cell_type": "code",
   "execution_count": 7,
   "metadata": {},
   "outputs": [
    {
     "name": "stdout",
     "output_type": "stream",
     "text": [
      "sorted list is: [8, 6, 6, 4, 2]\n"
     ]
    }
   ],
   "source": [
    "a=[8,6,2,4,6]\n",
    "b=sorted(a,reverse=True)\n",
    "print(\"sorted list is:\",b)"
   ]
  },
  {
   "cell_type": "code",
   "execution_count": 10,
   "metadata": {},
   "outputs": [
    {
     "name": "stdout",
     "output_type": "stream",
     "text": [
      "None\n"
     ]
    }
   ],
   "source": [
    "#return none\n",
    "x=[10,20,30,15,12,40,22,12]\n",
    "print(x.sort())\n"
   ]
  },
  {
   "cell_type": "code",
   "execution_count": 14,
   "metadata": {},
   "outputs": [
    {
     "name": "stdout",
     "output_type": "stream",
     "text": [
      "None\n"
     ]
    }
   ],
   "source": [
    "p=a.sort()\n",
    "print(p)\n"
   ]
  },
  {
   "cell_type": "code",
   "execution_count": null,
   "metadata": {},
   "outputs": [],
   "source": []
  },
  {
   "cell_type": "code",
   "execution_count": null,
   "metadata": {},
   "outputs": [],
   "source": []
  },
  {
   "cell_type": "code",
   "execution_count": null,
   "metadata": {},
   "outputs": [],
   "source": []
  },
  {
   "cell_type": "code",
   "execution_count": null,
   "metadata": {},
   "outputs": [],
   "source": []
  },
  {
   "cell_type": "code",
   "execution_count": null,
   "metadata": {},
   "outputs": [],
   "source": []
  },
  {
   "cell_type": "code",
   "execution_count": null,
   "metadata": {},
   "outputs": [],
   "source": []
  },
  {
   "cell_type": "code",
   "execution_count": null,
   "metadata": {},
   "outputs": [],
   "source": []
  },
  {
   "cell_type": "code",
   "execution_count": null,
   "metadata": {},
   "outputs": [],
   "source": []
  },
  {
   "cell_type": "code",
   "execution_count": null,
   "metadata": {},
   "outputs": [],
   "source": []
  },
  {
   "cell_type": "code",
   "execution_count": null,
   "metadata": {},
   "outputs": [],
   "source": []
  },
  {
   "cell_type": "code",
   "execution_count": null,
   "metadata": {},
   "outputs": [],
   "source": []
  },
  {
   "cell_type": "code",
   "execution_count": null,
   "metadata": {},
   "outputs": [],
   "source": []
  },
  {
   "cell_type": "code",
   "execution_count": null,
   "metadata": {},
   "outputs": [],
   "source": []
  },
  {
   "cell_type": "code",
   "execution_count": null,
   "metadata": {},
   "outputs": [],
   "source": []
  },
  {
   "cell_type": "code",
   "execution_count": null,
   "metadata": {},
   "outputs": [],
   "source": []
  },
  {
   "cell_type": "code",
   "execution_count": null,
   "metadata": {},
   "outputs": [],
   "source": []
  },
  {
   "cell_type": "code",
   "execution_count": null,
   "metadata": {},
   "outputs": [],
   "source": []
  },
  {
   "cell_type": "code",
   "execution_count": null,
   "metadata": {},
   "outputs": [],
   "source": []
  },
  {
   "cell_type": "code",
   "execution_count": null,
   "metadata": {},
   "outputs": [],
   "source": []
  },
  {
   "cell_type": "code",
   "execution_count": null,
   "metadata": {},
   "outputs": [],
   "source": []
  },
  {
   "cell_type": "code",
   "execution_count": null,
   "metadata": {},
   "outputs": [],
   "source": []
  },
  {
   "cell_type": "code",
   "execution_count": 33,
   "metadata": {},
   "outputs": [
    {
     "name": "stdout",
     "output_type": "stream",
     "text": [
      "original list is: ['Rick', 'Jim', 'Mark', '29', '28', '27']\n",
      "['Rick', 'Jim', 'Mark', '29', '27']\n"
     ]
    }
   ],
   "source": [
    "list1=[\"Rick\",\"Jim\",\"Mark\",\"29\",\"28\",\"27\"]\n",
    "print(\"original list is:\",list1)\n",
    "list1.remove(\"28\")\n",
    "print(list1)"
   ]
  },
  {
   "cell_type": "code",
   "execution_count": 42,
   "metadata": {},
   "outputs": [
    {
     "name": "stdout",
     "output_type": "stream",
     "text": [
      "original list is: ['Rick', 'Jim', 'Mark', '29', '28', '27']\n",
      "['Rick', 'Mark', 'Jim', '29', '28', '27']\n"
     ]
    }
   ],
   "source": [
    "list1=[\"Rick\",\"Jim\",\"Mark\",\"29\",\"28\",\"27\"]\n",
    "print(\"original list is:\",list1)\n",
    "list2=sorted(list1,reverse=True)\n",
    "print(list2)"
   ]
  }
 ],
 "metadata": {
  "kernelspec": {
   "display_name": "base",
   "language": "python",
   "name": "python3"
  },
  "language_info": {
   "codemirror_mode": {
    "name": "ipython",
    "version": 3
   },
   "file_extension": ".py",
   "mimetype": "text/x-python",
   "name": "python",
   "nbconvert_exporter": "python",
   "pygments_lexer": "ipython3",
   "version": "3.11.4"
  }
 },
 "nbformat": 4,
 "nbformat_minor": 2
}
